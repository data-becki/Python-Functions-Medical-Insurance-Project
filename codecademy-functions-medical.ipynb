{
 "cells": [
  {
   "cell_type": "code",
   "execution_count": 4,
   "id": "bec37399",
   "metadata": {
    "scrolled": true
   },
   "outputs": [
    {
     "name": "stdout",
     "output_type": "stream",
     "text": [
      "The estimated insurance cost for Maria is 5469.0 dollars.\n",
      "The estimated insurance cost for Omar is 28336.0 dollars.\n"
     ]
    }
   ],
   "source": [
    "# Create calculate_insurance_cost() function below: \n",
    "def calculate_insurance_cost(name, age, sex, bmi, num_of_children, smoker):\n",
    "    estimated_cost = 250*age - 128*sex + 370*bmi + 425*num_of_children + 24000*smoker - 12500\n",
    "    print(\"The estimated insurance cost for \" + name + \" is \" + str(estimated_cost) + \" dollars.\")\n",
    "    return(estimated_cost)\n",
    "\n",
    "# Initial variables for Maria \n",
    "#age = 28\n",
    "#sex = 0  \n",
    "#bmi = 26.2\n",
    "#num_of_children = 3\n",
    "#smoker = 0  \n",
    "\n",
    "# Estimate Maria's insurance cost\n",
    "# insurance_cost = 250*age - 128*sex + 370*bmi + 425*num_of_children + 24000*smoker - 12500\n",
    "maria_insurance_cost = calculate_insurance_cost(\"Maria\", 28, 0, 26.2, 3, 0)\n",
    "#print(\"The estimated insurance cost for Maria is \" + str(insurance_cost) + \" dollars.\")\n",
    "\n",
    "# Initial variables for Omar\n",
    "#age = 35\n",
    "#sex = 1 \n",
    "#bmi = 22.2\n",
    "#num_of_children = 0\n",
    "#smoker = 1  \n",
    "\n",
    "# Estimate Omar's insurance cost \n",
    "# insurance_cost = 250*age - 128*sex + 370*bmi + 425*num_of_children + 24000*smoker - 12500\n",
    "omar_insurance_cost = calculate_insurance_cost(\"Omar\", 35, 1, 22.2, 0, 1)\n",
    "#print(\"The estimated insurance cost for Omar is \" + str(insurance_cost) + \" dollars.\")b\n",
    "\n"
   ]
  },
  {
   "cell_type": "code",
   "execution_count": 3,
   "id": "bfc04cea",
   "metadata": {},
   "outputs": [
    {
     "name": "stdout",
     "output_type": "stream",
     "text": [
      "The difference in insurance cost is -22867.0 dollars.\n"
     ]
    }
   ],
   "source": [
    "def insurance_difference(cost1, cost2):\n",
    "    diff = cost1 - cost2\n",
    "    print(\"The difference in insurance cost is \" + str(diff) + \" dollars.\")\n",
    "\n",
    "insurance_difference(maria_insurance_cost, omar_insurance_cost)"
   ]
  }
 ],
 "metadata": {
  "kernelspec": {
   "display_name": "Python 3 (ipykernel)",
   "language": "python",
   "name": "python3"
  },
  "language_info": {
   "codemirror_mode": {
    "name": "ipython",
    "version": 3
   },
   "file_extension": ".py",
   "mimetype": "text/x-python",
   "name": "python",
   "nbconvert_exporter": "python",
   "pygments_lexer": "ipython3",
   "version": "3.9.7"
  }
 },
 "nbformat": 4,
 "nbformat_minor": 5
}
